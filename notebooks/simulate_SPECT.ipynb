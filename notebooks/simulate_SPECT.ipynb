{
 "cells": [
  {
   "cell_type": "code",
   "execution_count": null,
   "id": "ca2281b6-f3fb-47b4-a1f5-0a737be9d7c5",
   "metadata": {
    "slideshow": {
     "slide_type": "slide"
    }
   },
   "outputs": [],
   "source": [
    "# -*- coding: utf-8 -*-\n",
    "\"\"\"\n",
    "Example script to serve perform the SPECT simulation. This is the equivalent of\n",
    "    ./run_simulation_SPECT.sh\n",
    "\n",
    "Author: Kris Thielemans\n",
    "\"\"\""
   ]
  },
  {
   "cell_type": "markdown",
   "id": "be09f095-dfc5-4752-99f7-ed93f0bc35e2",
   "metadata": {
    "slideshow": {
     "slide_type": "slide"
    }
   },
   "source": [
    "# Initial imports"
   ]
  },
  {
   "cell_type": "code",
   "execution_count": null,
   "id": "c5634587-4edc-4bd3-b671-53ba0a0021b3",
   "metadata": {},
   "outputs": [],
   "source": [
    "import stir\n",
    "from stirextra import *\n",
    "import os\n",
    "from distutils.dir_util import copy_tree"
   ]
  },
  {
   "cell_type": "markdown",
   "id": "c1993361-8903-454f-9f09-f6f25c954c8e",
   "metadata": {
    "slideshow": {
     "slide_type": "slide"
    }
   },
   "source": [
    "# go to directory with input files"
   ]
  },
  {
   "cell_type": "code",
   "execution_count": null,
   "id": "97266f1e-b3ae-4ba6-9f29-2317f372dedc",
   "metadata": {
    "slideshow": {
     "slide_type": "slide"
    }
   },
   "outputs": [],
   "source": [
    "# adapt this path to your situation (or start everything in the exercises directory)\n",
    "os.chdir(os.getenv('STIR_exercises_PATH'))"
   ]
  },
  {
   "cell_type": "markdown",
   "id": "d7520e6f-ead9-4ac9-a764-ffccdc262444",
   "metadata": {
    "slideshow": {
     "slide_type": "slide"
    }
   },
   "source": [
    "# make directory for output files"
   ]
  },
  {
   "cell_type": "code",
   "execution_count": null,
   "id": "8fb12005-5936-4fd6-999a-f14937790d26",
   "metadata": {},
   "outputs": [],
   "source": [
    "os.makedirs('working_folder/single_slice_SPECT', exist_ok=True)\n",
    "copy_tree('EX_simulation_single_slice_SPECT/', 'working_folder/single_slice_SPECT')\n",
    "os.chdir('working_folder/single_slice_SPECT')"
   ]
  },
  {
   "cell_type": "markdown",
   "id": "94570e60-590b-47b7-8dd6-83c0f749a103",
   "metadata": {},
   "source": [
    "# read in data"
   ]
  },
  {
   "cell_type": "code",
   "execution_count": null,
   "id": "8a2cc9ed-8599-484f-a20f-3fd695d0fa01",
   "metadata": {},
   "outputs": [],
   "source": [
    "emission=stir.FloatVoxelsOnCartesianGrid.read_from_file('emission.hv')\n",
    "atn=stir.FloatVoxelsOnCartesianGrid.read_from_file('CTAC.hv')\n",
    "template=stir.ProjData.read_from_file('template_sinogram.hs')"
   ]
  },
  {
   "cell_type": "markdown",
   "id": "1cd4f135-2037-4afd-a9b7-7f9065b6330e",
   "metadata": {},
   "source": [
    "# Create projection matrix and projector"
   ]
  },
  {
   "cell_type": "code",
   "execution_count": null,
   "id": "b309e086-2a0c-44e7-bf53-ed00a6e09b61",
   "metadata": {},
   "outputs": [],
   "source": [
    "pm=stir.ProjMatrixByBinSPECTUB()"
   ]
  },
  {
   "cell_type": "markdown",
   "id": "1ca146ac-e9d5-4efb-b810-7b01a2e29900",
   "metadata": {},
   "source": [
    "See how we can set parameters for PSF."
   ]
  },
  {
   "cell_type": "code",
   "execution_count": null,
   "id": "0adac201-a791-4d8b-9816-4d604e9d59b1",
   "metadata": {},
   "outputs": [],
   "source": [
    "help(pm.set_resolution_model)"
   ]
  },
  {
   "cell_type": "markdown",
   "id": "ca0616f8-4923-4bb3-8791-b54d2e1204c4",
   "metadata": {},
   "source": [
    "We will use 2D-PSF for speed"
   ]
  },
  {
   "cell_type": "code",
   "execution_count": null,
   "id": "df8295be-8b23-4eaf-aac8-338b73799e87",
   "metadata": {},
   "outputs": [],
   "source": [
    "pm.set_resolution_model(0.0163, 0.1466, False)"
   ]
  },
  {
   "cell_type": "code",
   "execution_count": null,
   "id": "93e35441-dcc0-45d0-b5dd-220503fe3c4d",
   "metadata": {},
   "outputs": [],
   "source": [
    "pm.set_attenuation_image_sptr(atn)"
   ]
  },
  {
   "cell_type": "code",
   "execution_count": null,
   "id": "c2349196-440f-4ace-b3c2-b6312e40ad8d",
   "metadata": {},
   "outputs": [],
   "source": [
    "projectors=stir.ProjectorByBinPairUsingProjMatrixByBin(pm)\n",
    "projectors.get_forward_projector().set_up(template.get_proj_data_info(), emission)"
   ]
  },
  {
   "cell_type": "markdown",
   "id": "9618b9cc-0020-4c6e-bbfc-15da1d156e5a",
   "metadata": {},
   "source": [
    "# Create output data object, and forward project"
   ]
  },
  {
   "cell_type": "code",
   "execution_count": null,
   "id": "e3c01616-23aa-4e7d-baa9-b7e37cf69a98",
   "metadata": {},
   "outputs": [],
   "source": [
    "exam_info=stir.ExamInfo()\n",
    "proj_data=stir.ProjDataInMemory(exam_info, template.get_proj_data_info())"
   ]
  },
  {
   "cell_type": "code",
   "execution_count": null,
   "id": "7ccc73cd-0f65-43ec-853f-0e68d7da0545",
   "metadata": {},
   "outputs": [],
   "source": [
    "projectors.get_forward_projector().forward_project(proj_data, emission)"
   ]
  },
  {
   "cell_type": "markdown",
   "id": "d061c9b1-0ee8-4fcc-9b71-587b23e40aac",
   "metadata": {},
   "source": [
    "# Write to file for evaluation exercise"
   ]
  },
  {
   "cell_type": "code",
   "execution_count": null,
   "id": "8b641e00-f2c7-4f32-8d14-64bea5163c7a",
   "metadata": {},
   "outputs": [],
   "source": [
    "proj_data.write_to_file('my_sim.hs');"
   ]
  },
  {
   "cell_type": "markdown",
   "id": "5691c442-27f4-4157-aff4-52ef6bfa8808",
   "metadata": {},
   "source": [
    "Add noise to the data.\n",
    "\n",
    "In current STIR, the Poisson random noise simulator still needs to be\n",
    "called from the command line. You could check if in your version, `stir.GeneralisedPoissonNoiseGenerator` is already available."
   ]
  },
  {
   "cell_type": "code",
   "execution_count": null,
   "id": "4b0bb5cd-fc29-4265-9892-2277be9a34cf",
   "metadata": {},
   "outputs": [],
   "source": [
    "!poisson_noise my_noisy_data.hs my_sim.hs 1 1"
   ]
  },
  {
   "cell_type": "markdown",
   "id": "1b214a6d-0d9b-436e-9d04-7d2b6d5539d1",
   "metadata": {
    "slideshow": {
     "slide_type": "slide"
    }
   },
   "source": [
    "# What to do now?"
   ]
  },
  {
   "cell_type": "markdown",
   "id": "c4cefd07-3ab4-4e67-bee3-461ea02bbef3",
   "metadata": {
    "slideshow": {
     "slide_type": "slide"
    }
   },
   "source": [
    "Open the `evaluate_simulate_SPECT` notebook to read and display this data."
   ]
  }
 ],
 "metadata": {
  "kernelspec": {
   "display_name": "Python 3 (ipykernel)",
   "language": "python",
   "name": "python3"
  },
  "language_info": {
   "codemirror_mode": {
    "name": "ipython"
   },
   "file_extension": ".py",
   "mimetype": "text/x-python",
   "name": "python",
   "nbconvert_exporter": "python"
  }
 },
 "nbformat": 4,
 "nbformat_minor": 5
}
