{
 "cells": [
  {
   "cell_type": "code",
   "execution_count": null,
   "metadata": {
    "slideshow": {
     "slide_type": "slide"
    }
   },
   "outputs": [],
   "source": [
    "# -*- coding: utf-8 -*-\n",
    "\"\"\"\n",
    "Example script to forward/back-project some data.\n",
    "\n",
    "In this example, we will create projection data and images purely\n",
    "from within Python.\n",
    "    \n",
    "Note that the code that use geometric shapes below needs a version of STIR\n",
    "later than 3Nov2018. There are no other prerequisites (i.e. no script to run first!).\n",
    "\n",
    "Author: Kris Thielemans\n",
    "\"\"\""
   ]
  },
  {
   "cell_type": "markdown",
   "metadata": {
    "slideshow": {
     "slide_type": "slide"
    }
   },
   "source": [
    "# Initial imports"
   ]
  },
  {
   "cell_type": "code",
   "execution_count": null,
   "metadata": {
    "slideshow": {
     "slide_type": "slide"
    }
   },
   "outputs": [],
   "source": [
    "import stir\n",
    "import stirextra\n",
    "#import numpy\n",
    "import matplotlib.pyplot as plt"
   ]
  },
  {
   "cell_type": "markdown",
   "metadata": {
    "slideshow": {
     "slide_type": "slide"
    }
   },
   "source": [
    "# We first need to define a scanner"
   ]
  },
  {
   "cell_type": "code",
   "execution_count": null,
   "metadata": {
    "slideshow": {
     "slide_type": "slide"
    }
   },
   "outputs": [],
   "source": [
    "# STIR has multiple scanners predefined.\n",
    "print(stir.Scanner.list_all_names())"
   ]
  },
  {
   "cell_type": "markdown",
   "metadata": {
    "slideshow": {
     "slide_type": "slide"
    }
   },
   "source": [
    "# Let's use an old scanner that doesn't have too many detectors (for speed)"
   ]
  },
  {
   "cell_type": "code",
   "execution_count": null,
   "metadata": {
    "slideshow": {
     "slide_type": "slide"
    }
   },
   "outputs": [],
   "source": [
    "scanner=stir.Scanner.get_scanner_from_name(\"ECAT 931\")\n",
    "print(scanner.parameter_info())"
   ]
  },
  {
   "cell_type": "markdown",
   "metadata": {
    "slideshow": {
     "slide_type": "slide"
    }
   },
   "source": [
    "# Now we need to describe the actual size of the projection data"
   ]
  },
  {
   "cell_type": "code",
   "execution_count": null,
   "metadata": {
    "slideshow": {
     "slide_type": "slide"
    }
   },
   "outputs": [],
   "source": [
    "# We call this the `projection data information`.\n",
    "#\n",
    "# We will use a \"2D\" PET acquisition in this example.\n",
    "# This corresponds to `span=3`, with only 1 \"segment\".\n",
    "# You can ignore this terminology now, or check it out at\n",
    "# http://stir.sourceforge.net/documentation/STIR-glossary.pdf\n",
    "span=3;\n",
    "max_ring_diff=1;\n",
    "# use default number of \"views\" (or \"azimutal angles\")\n",
    "num_views=scanner.get_num_detectors_per_ring()/2;\n",
    "# construct the object using ProjDataInfoCTI\n",
    "# (the naming of this function was related to the scanner manufacturer, but will be changed in the future)\n",
    "proj_data_info=stir.ProjDataInfo.ProjDataInfoCTI(scanner,\n",
    "                                                 span, max_ring_diff,\n",
    "                                                 num_views, scanner.get_default_num_arccorrected_bins());"
   ]
  },
  {
   "cell_type": "markdown",
   "metadata": {
    "slideshow": {
     "slide_type": "slide"
    }
   },
   "source": [
    "# Create an empty image with suitable voxel sizes"
   ]
  },
  {
   "cell_type": "code",
   "execution_count": null,
   "metadata": {
    "slideshow": {
     "slide_type": "slide"
    }
   },
   "outputs": [],
   "source": [
    "# use smaller voxels than the default (we \"zoom in\")\n",
    "zoom=1.2;\n",
    "target=stir.FloatVoxelsOnCartesianGrid(proj_data_info, zoom);"
   ]
  },
  {
   "cell_type": "markdown",
   "metadata": {
    "slideshow": {
     "slide_type": "slide"
    }
   },
   "source": [
    "# initialise a projection matrix"
   ]
  },
  {
   "cell_type": "code",
   "execution_count": null,
   "metadata": {
    "slideshow": {
     "slide_type": "slide"
    }
   },
   "outputs": [],
   "source": [
    "# Using ray-tracing here\n",
    "# Note that the default is to restrict the projection to a cylindrical FOV\n",
    "projmatrix=stir.ProjMatrixByBinUsingRayTracing();\n",
    "projmatrix.set_up(proj_data_info, target);"
   ]
  },
  {
   "cell_type": "markdown",
   "metadata": {
    "slideshow": {
     "slide_type": "slide"
    }
   },
   "source": [
    "# construct projectors"
   ]
  },
  {
   "cell_type": "code",
   "execution_count": null,
   "metadata": {
    "slideshow": {
     "slide_type": "slide"
    }
   },
   "outputs": [],
   "source": [
    "forwardprojector=stir.ForwardProjectorByBinUsingProjMatrixByBin(projmatrix);\n",
    "forwardprojector.set_up(proj_data_info, target);\n",
    "\n",
    "backprojector=stir.BackProjectorByBinUsingProjMatrixByBin(projmatrix);\n",
    "backprojector.set_up(proj_data_info, target);"
   ]
  },
  {
   "cell_type": "markdown",
   "metadata": {
    "slideshow": {
     "slide_type": "slide"
    }
   },
   "source": [
    "# create projection data for output of forward projection"
   ]
  },
  {
   "cell_type": "code",
   "execution_count": null,
   "metadata": {
    "slideshow": {
     "slide_type": "slide"
    }
   },
   "outputs": [],
   "source": [
    "# We'll just create the data in memory here\n",
    "exam_info=stir.ExamInfo();\n",
    "projdataout=stir.ProjDataInMemory(exam_info, proj_data_info);\n",
    "# Note: we could write to file, but it is right now a bit complicated to open a\n",
    "#  projection data file for read/write:\n",
    "#  inout=stir.ios.trunc|stir.ios.ios_base_in|stir.ios.out;\n",
    "#  projdataout=stir.ProjDataInterfile(projdata.get_exam_info(), proj_data_info, 'my_test_python_projection.hs',inout);"
   ]
  },
  {
   "cell_type": "markdown",
   "metadata": {
    "slideshow": {
     "slide_type": "slide"
    }
   },
   "source": [
    "# forward project an image."
   ]
  },
  {
   "cell_type": "code",
   "execution_count": null,
   "metadata": {
    "slideshow": {
     "slide_type": "slide"
    }
   },
   "outputs": [],
   "source": [
    "# As a first example, we will just some uniform data.\n",
    "# (Remember that although we fill the whole image, the projector will only use\n",
    "# the inner cylinder.)\n",
    "target.fill(2);\n",
    "forwardprojector.forward_project(projdataout, target);"
   ]
  },
  {
   "cell_type": "markdown",
   "metadata": {
    "slideshow": {
     "slide_type": "slide"
    }
   },
   "source": [
    "# A note on projection data sizes"
   ]
  },
  {
   "cell_type": "code",
   "execution_count": null,
   "metadata": {
    "slideshow": {
     "slide_type": "slide"
    }
   },
   "outputs": [],
   "source": [
    "# In STIR Python, projection data after conversion to numpy is currently always a 3D array. This\n",
    "# simulation is of an acquisition in \"2D\" mode, but with several rings of detectors.\n",
    "# In that case, the projection  data has size num_sinograms x num_views x num_tangential_positions.\n",
    "# In \"3D\" acquisition mode, the situation is more complicated. Effectively all \"segments\"\n",
    "# are concatenated."
   ]
  },
  {
   "cell_type": "markdown",
   "metadata": {
    "slideshow": {
     "slide_type": "slide"
    }
   },
   "source": [
    "# get the output"
   ]
  },
  {
   "cell_type": "code",
   "execution_count": null,
   "metadata": {
    "slideshow": {
     "slide_type": "slide"
    }
   },
   "outputs": [],
   "source": [
    "# There will be only a single segment, corresponding to LORs orthogonal\n",
    "# to the scanner axis.\n",
    "# As an alternative to using to_numpy, here we will extract the data for a single segment,\n",
    "# ordered \"by sinogram\".\n",
    "# For this particular simulation (with span>1), we will have the same number of sinograms as slices\n",
    "# in the image (both equal to 2*num_rings-1).\n",
    "seg=projdataout.get_segment_by_sinogram(0);\n",
    "seg_array=stirextra.to_numpy(seg);\n",
    "seg_array.shape"
   ]
  },
  {
   "cell_type": "markdown",
   "metadata": {
    "slideshow": {
     "slide_type": "slide"
    }
   },
   "source": [
    "# Display the data"
   ]
  },
  {
   "cell_type": "code",
   "execution_count": null,
   "metadata": {
    "slideshow": {
     "slide_type": "slide"
    }
   },
   "outputs": [],
   "source": [
    "# We'll display a single sinogram and a horizontal profile (i.e. projections\n",
    "# for a single \"slice\" and \"view\"), but you could display the data in another cut of course.\n",
    "plt.figure();\n",
    "plt.subplot(1,2,1)\n",
    "plt.imshow(seg_array[10,:,:]);\n",
    "plt.title('Forward projection')\n",
    "plt.subplot(1,2,2)\n",
    "plt.plot(seg_array[10,0,:])\n",
    "plt.title('Horizontal profile')"
   ]
  },
  {
   "cell_type": "markdown",
   "metadata": {
    "slideshow": {
     "slide_type": "slide"
    }
   },
   "source": [
    "# backproject this projection data"
   ]
  },
  {
   "cell_type": "code",
   "execution_count": null,
   "metadata": {
    "slideshow": {
     "slide_type": "slide"
    }
   },
   "outputs": [],
   "source": [
    "# we need to set the target to zero first, otherwise it will add to existing numbers.\n",
    "target.fill(0)\n",
    "backprojector.back_project(target, projdataout);"
   ]
  },
  {
   "cell_type": "markdown",
   "metadata": {
    "slideshow": {
     "slide_type": "slide"
    }
   },
   "source": [
    "# display"
   ]
  },
  {
   "cell_type": "code",
   "execution_count": null,
   "metadata": {
    "slideshow": {
     "slide_type": "slide"
    }
   },
   "outputs": [],
   "source": [
    "# This shows a beautiful pattern, a well-known feature of a ray-tracing matrix\n",
    "target_array=stirextra.to_numpy(target);\n",
    "plt.figure();\n",
    "plt.subplot(1,2,1)\n",
    "plt.imshow(target_array[10,:,:]);\n",
    "plt.title('Back-projection')\n",
    "plt.subplot(1,2,2)\n",
    "plt.plot(target_array[10,80,:])"
   ]
  },
  {
   "cell_type": "markdown",
   "metadata": {
    "slideshow": {
     "slide_type": "slide"
    }
   },
   "source": [
    "# Let's use more LORs per sinogram bin (which will be a bit slower of course)"
   ]
  },
  {
   "cell_type": "code",
   "execution_count": null,
   "metadata": {
    "slideshow": {
     "slide_type": "slide"
    }
   },
   "outputs": [],
   "source": [
    "projmatrix.set_num_tangential_LORs(10);\n",
    "# Need to call set_up again\n",
    "projmatrix.set_up(proj_data_info, target);"
   ]
  },
  {
   "cell_type": "markdown",
   "metadata": {
    "slideshow": {
     "slide_type": "slide"
    }
   },
   "source": [
    "# You could re-run the forward projection, but we'll skip that for now"
   ]
  },
  {
   "cell_type": "code",
   "execution_count": null,
   "metadata": {
    "slideshow": {
     "slide_type": "slide"
    }
   },
   "outputs": [],
   "source": [
    "# forwardprojector.forward_project(projdataout, target);"
   ]
  },
  {
   "cell_type": "markdown",
   "metadata": {
    "slideshow": {
     "slide_type": "slide"
    }
   },
   "source": [
    "# Run another backprojection and display"
   ]
  },
  {
   "cell_type": "code",
   "execution_count": null,
   "metadata": {
    "slideshow": {
     "slide_type": "slide"
    }
   },
   "outputs": [],
   "source": [
    "target.fill(0)\n",
    "backprojector.back_project(target, projdataout);\n",
    "new_target_array=stirextra.to_numpy(target);\n",
    "plt.figure();\n",
    "plt.subplot(1,2,1)\n",
    "plt.imshow(new_target_array[10,:,:]);\n",
    "plt.title('Back-projection with 10 LORs per bin')\n",
    "plt.subplot(1,2,2)\n",
    "plt.plot(new_target_array[10,80,:])"
   ]
  },
  {
   "cell_type": "markdown",
   "metadata": {
    "slideshow": {
     "slide_type": "slide"
    }
   },
   "source": [
    "# compare profiles to check if overall features are fine"
   ]
  },
  {
   "cell_type": "code",
   "execution_count": null,
   "metadata": {
    "slideshow": {
     "slide_type": "slide"
    }
   },
   "outputs": [],
   "source": [
    "plt.figure()\n",
    "plt.plot(target_array[10,80,:])\n",
    "plt.plot(new_target_array[10,80,:])\n",
    "plt.title('comparing both profiles')"
   ]
  },
  {
   "cell_type": "markdown",
   "metadata": {
    "slideshow": {
     "slide_type": "slide"
    }
   },
   "source": [
    "# Let's now create an image with some geometric shapes"
   ]
  },
  {
   "cell_type": "code",
   "execution_count": null,
   "metadata": {
    "slideshow": {
     "slide_type": "slide"
    }
   },
   "outputs": [],
   "source": [
    "target.fill(0)"
   ]
  },
  {
   "cell_type": "markdown",
   "metadata": {
    "slideshow": {
     "slide_type": "slide"
    }
   },
   "source": [
    "# create a cylinder (note: units are in mm)"
   ]
  },
  {
   "cell_type": "code",
   "execution_count": null,
   "metadata": {
    "slideshow": {
     "slide_type": "slide"
    }
   },
   "outputs": [],
   "source": [
    "length=70\n",
    "radius=40\n",
    "z_centre=(target.get_max_z()+target.get_min_z())/2\n",
    "centre=stir.FloatCartesianCoordinate3D(z_centre,4,4)\n",
    "shape=stir.EllipsoidalCylinder(length, radius, radius,\n",
    "                               centre)"
   ]
  },
  {
   "cell_type": "markdown",
   "metadata": {
    "slideshow": {
     "slide_type": "slide"
    }
   },
   "source": [
    "# we set the image to a discretised version of this shape"
   ]
  },
  {
   "cell_type": "code",
   "execution_count": null,
   "metadata": {
    "slideshow": {
     "slide_type": "slide"
    }
   },
   "outputs": [],
   "source": [
    "shape.construct_volume(target, stir.IntCartesianCoordinate3D(1,1,1))"
   ]
  },
  {
   "cell_type": "markdown",
   "metadata": {
    "slideshow": {
     "slide_type": "slide"
    }
   },
   "source": [
    "# Let's add another translated cylinder"
   ]
  },
  {
   "cell_type": "code",
   "execution_count": null,
   "metadata": {
    "slideshow": {
     "slide_type": "slide"
    }
   },
   "outputs": [],
   "source": [
    "# The way to do this is currently still awkward. Apologies.\n",
    "shape.translate(stir.FloatCartesianCoordinate3D(40,70,40))\n",
    "# make a clone and fill that one with the second shape\n",
    "target2=target.clone()\n",
    "shape.construct_volume(target2, stir.IntCartesianCoordinate3D(1,1,1))\n",
    "# now add that to the previous one (currently messy as we need to pass through numpy, sorry)\n",
    "target_array=stirextra.to_numpy(target);\n",
    "target_array+=stirextra.to_numpy(target2);\n",
    "target.fill(target_array.flat)"
   ]
  },
  {
   "cell_type": "markdown",
   "metadata": {
    "slideshow": {
     "slide_type": "slide"
    }
   },
   "source": [
    "# display"
   ]
  },
  {
   "cell_type": "code",
   "execution_count": null,
   "metadata": {
    "slideshow": {
     "slide_type": "slide"
    }
   },
   "outputs": [],
   "source": [
    "plt.figure()\n",
    "target_array=stirextra.to_numpy(target);\n",
    "middle_plane=target_array.shape[0]/2\n",
    "plt.imshow(target_array[middle_plane,:,:])"
   ]
  },
  {
   "cell_type": "markdown",
   "metadata": {
    "slideshow": {
     "slide_type": "slide"
    }
   },
   "source": [
    "# forward project this"
   ]
  },
  {
   "cell_type": "code",
   "execution_count": null,
   "metadata": {
    "slideshow": {
     "slide_type": "slide"
    }
   },
   "outputs": [],
   "source": [
    "forwardprojector.forward_project(projdataout, target);"
   ]
  },
  {
   "cell_type": "markdown",
   "metadata": {
    "slideshow": {
     "slide_type": "slide"
    }
   },
   "source": [
    "# display"
   ]
  },
  {
   "cell_type": "code",
   "execution_count": null,
   "metadata": {
    "slideshow": {
     "slide_type": "slide"
    }
   },
   "outputs": [],
   "source": [
    "seg=projdataout.get_segment_by_sinogram(0);\n",
    "seg_array=stirextra.to_numpy(seg);\n",
    "plt.figure();\n",
    "plt.subplot(1,2,1)\n",
    "plt.imshow(seg_array[middle_plane,:,:]);\n",
    "plt.title('Forward projection')\n",
    "plt.subplot(1,2,2)\n",
    "plt.plot(seg_array[middle_plane,0,:])"
   ]
  },
  {
   "cell_type": "markdown",
   "metadata": {
    "slideshow": {
     "slide_type": "slide"
    }
   },
   "source": [
    "# display all sinograms in a (repeated) loop"
   ]
  },
  {
   "cell_type": "code",
   "execution_count": null,
   "metadata": {
    "slideshow": {
     "slide_type": "slide"
    }
   },
   "outputs": [],
   "source": [
    "import matplotlib.animation as animation\n",
    "bitmaps=[]\n",
    "fig=plt.figure()\n",
    "for sino in range(seg_array.shape[0]):\n",
    "    bitmap=plt.imshow(seg_array[sino,:,:]);\n",
    "    plt.clim(0,seg_array.max())\n",
    "    plt.axis('off');\n",
    "    bitmaps.append([bitmap])\n",
    "\n",
    "ani = animation.ArtistAnimation(fig, bitmaps, interval=100, blit=True, repeat_delay=1000)"
   ]
  },
  {
   "cell_type": "markdown",
   "metadata": {
    "slideshow": {
     "slide_type": "slide"
    }
   },
   "source": [
    "# It might make more sense to you if you display every view in the animation (as in the"
   ]
  },
  {
   "cell_type": "code",
   "execution_count": null,
   "metadata": {
    "slideshow": {
     "slide_type": "slide"
    }
   },
   "outputs": [],
   "source": [
    "# evaluate_simulation* scripts), so try this now."
   ]
  },
  {
   "cell_type": "markdown",
   "metadata": {
    "slideshow": {
     "slide_type": "slide"
    }
   },
   "source": [
    "# What now?"
   ]
  },
  {
   "cell_type": "code",
   "execution_count": null,
   "metadata": {
    "slideshow": {
     "slide_type": "slide"
    }
   },
   "outputs": [],
   "source": [
    "# You have all the basic tools to do a simple analytic PET simulation\n",
    "# (no attenuation etc here yet though).\n",
    "# You can also add other shapes (stir.Ellipsoid etc), or just make them yourself\n",
    "# using numpy commands"
   ]
  }
 ],
 "metadata": {
  "language": "python"
 },
 "nbformat": 4,
 "nbformat_minor": 2
}
