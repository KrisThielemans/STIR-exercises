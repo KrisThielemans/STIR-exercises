{
 "cells": [
  {
   "cell_type": "code",
   "execution_count": null,
   "id": "ca2281b6-f3fb-47b4-a1f5-0a737be9d7c5",
   "metadata": {
    "slideshow": {
     "slide_type": "slide"
    },
    "tags": []
   },
   "outputs": [],
   "source": [
    "# -*- coding: utf-8 -*-\n",
    "\"\"\"\n",
    "Example script to reconstruct the SPECT simulation. This is almost the equivalent of\n",
    "    ./run_reconstruction_SPECT.sh\n",
    "\n",
    "However, that scripts runs FBP and MAP reconstructions as well. This file does not.\n",
    "\n",
    "Author: Kris Thielemans\n",
    "\"\"\""
   ]
  },
  {
   "cell_type": "markdown",
   "id": "be09f095-dfc5-4752-99f7-ed93f0bc35e2",
   "metadata": {
    "slideshow": {
     "slide_type": "slide"
    }
   },
   "source": [
    "# Initial imports"
   ]
  },
  {
   "cell_type": "code",
   "execution_count": null,
   "id": "c5634587-4edc-4bd3-b671-53ba0a0021b3",
   "metadata": {
    "tags": []
   },
   "outputs": [],
   "source": [
    "import stir\n",
    "from stirextra import *\n",
    "import os\n",
    "from distutils.dir_util import copy_tree\n",
    "import matplotlib.pyplot as plt"
   ]
  },
  {
   "cell_type": "markdown",
   "id": "c1993361-8903-454f-9f09-f6f25c954c8e",
   "metadata": {
    "slideshow": {
     "slide_type": "slide"
    }
   },
   "source": [
    "# go to directory with input files"
   ]
  },
  {
   "cell_type": "code",
   "execution_count": null,
   "id": "97266f1e-b3ae-4ba6-9f29-2317f372dedc",
   "metadata": {
    "slideshow": {
     "slide_type": "slide"
    },
    "tags": []
   },
   "outputs": [],
   "source": [
    "# adapt this path to your situation (or start everything in the exercises directory)\n",
    "os.chdir(os.getenv('STIR_exercises_PATH'))"
   ]
  },
  {
   "cell_type": "markdown",
   "id": "d7520e6f-ead9-4ac9-a764-ffccdc262444",
   "metadata": {
    "slideshow": {
     "slide_type": "slide"
    }
   },
   "source": [
    "# copy.par files and make directory for output files"
   ]
  },
  {
   "cell_type": "code",
   "execution_count": null,
   "id": "8fb12005-5936-4fd6-999a-f14937790d26",
   "metadata": {
    "tags": []
   },
   "outputs": [],
   "source": [
    "copy_tree('EX_reconstruction_SPECT/', 'working_folder/single_slice_SPECT')\n",
    "os.chdir('working_folder/single_slice_SPECT')"
   ]
  },
  {
   "cell_type": "markdown",
   "id": "94570e60-590b-47b7-8dd6-83c0f749a103",
   "metadata": {},
   "source": [
    "# read in data"
   ]
  },
  {
   "cell_type": "code",
   "execution_count": null,
   "id": "8a2cc9ed-8599-484f-a20f-3fd695d0fa01",
   "metadata": {
    "tags": []
   },
   "outputs": [],
   "source": [
    "emission=stir.FloatVoxelsOnCartesianGrid.read_from_file('emission.hv')\n",
    "atn=stir.FloatVoxelsOnCartesianGrid.read_from_file('CTAC.hv')\n",
    "template=stir.ProjData.read_from_file('template_sinogram.hs')\n",
    "proj_data=stir.ProjData.read_from_file('my_sim.hs')"
   ]
  },
  {
   "cell_type": "markdown",
   "id": "813ba19d-ebe2-4a9b-b730-b2da12d70a33",
   "metadata": {},
   "source": [
    "# reconstruction with OSEM using an existing parameter file"
   ]
  },
  {
   "cell_type": "markdown",
   "id": "2b4f2b1a-4d42-4b45-9eea-ddb37b4ca446",
   "metadata": {},
   "source": [
    "STIR reconstructions can be initialised via a `.par` file, which is just a text file containing all the settings. We will do that here first."
   ]
  },
  {
   "cell_type": "code",
   "execution_count": null,
   "id": "79d7b491-a2c0-49a4-aa2a-46b26e41da6f",
   "metadata": {
    "tags": []
   },
   "outputs": [],
   "source": [
    "recon = stir.OSMAPOSLReconstruction3DFloat('OSEM.par')"
   ]
  },
  {
   "cell_type": "code",
   "execution_count": null,
   "id": "5285b4d1-b417-40fb-9738-e1c2304d7771",
   "metadata": {},
   "outputs": [],
   "source": [
    "recon.set_num_subsets(8)\n",
    "recon.set_num_subiterations(10)\n",
    "recon.set_save_interval(5)"
   ]
  },
  {
   "cell_type": "raw",
   "id": "9868661c-d126-4fa4-b937-e999e02258d6",
   "metadata": {},
   "source": [
    "print(recon.parameter_info())"
   ]
  },
  {
   "cell_type": "markdown",
   "id": "dedff790-3fad-4185-8dec-b95f5b07f142",
   "metadata": {},
   "source": [
    "We can then modify the parameters from Python. For example setting the data that will be reconstructed:"
   ]
  },
  {
   "cell_type": "code",
   "execution_count": null,
   "id": "e27ffe32-a098-423a-b726-a07727b55e72",
   "metadata": {},
   "outputs": [],
   "source": [
    "recon.set_input_data(proj_data)"
   ]
  },
  {
   "cell_type": "markdown",
   "id": "de2f5133-44a1-4373-9f24-ddf864a8273d",
   "metadata": {},
   "source": [
    "Read in an image as initialisation (although in this example we change its values then, but at least the number of voxels etc will be kept)."
   ]
  },
  {
   "cell_type": "code",
   "execution_count": null,
   "id": "df0df8cb-033b-4e95-a3e2-c24376ad40a7",
   "metadata": {
    "tags": []
   },
   "outputs": [],
   "source": [
    "target = stir.FloatVoxelsOnCartesianGrid.read_from_file('init.hv')\n",
    "# we will just fill the whole array with 1 here\n",
    "target.fill(1)"
   ]
  },
  {
   "cell_type": "markdown",
   "id": "7a3f657f-7cbe-4ce2-92e9-a03ffef91a7f",
   "metadata": {},
   "source": [
    "Set-up the reconstruction object (needs to be done once)"
   ]
  },
  {
   "cell_type": "code",
   "execution_count": null,
   "id": "5fada4fc-daf8-4ac8-bfca-e857fe0822f5",
   "metadata": {},
   "outputs": [],
   "source": [
    "s = recon.set_up(target)\n",
    "if (s == stir.Succeeded(stir.Succeeded.no)):\n",
    "    raise RuntimeError(\"recon set_up problem\")"
   ]
  },
  {
   "cell_type": "markdown",
   "id": "3d472cbe-698a-4ec8-add5-a038f7daa069",
   "metadata": {},
   "source": [
    "Run the reconstruction! The line below will update the `target` object."
   ]
  },
  {
   "cell_type": "code",
   "execution_count": null,
   "id": "8e9ac887-ef73-4516-9830-4757bede49d2",
   "metadata": {
    "tags": []
   },
   "outputs": [],
   "source": [
    "recon.reconstruct(target);"
   ]
  },
  {
   "cell_type": "markdown",
   "id": "706ae6c3-39a0-42b7-bda4-83465bed65e0",
   "metadata": {},
   "source": [
    "Display"
   ]
  },
  {
   "cell_type": "code",
   "execution_count": null,
   "id": "1adc6456-c4e3-438f-8778-0fee42a2cea5",
   "metadata": {
    "tags": []
   },
   "outputs": [],
   "source": [
    "npimage = to_numpy(target)\n",
    "plt.imshow(npimage[0,:,:])"
   ]
  },
  {
   "cell_type": "markdown",
   "id": "6b171a17-92e2-4481-a467-68e6d4fa4474",
   "metadata": {},
   "source": [
    "# Reconstruction set-up in Python"
   ]
  },
  {
   "cell_type": "markdown",
   "id": "1cd4f135-2037-4afd-a9b7-7f9065b6330e",
   "metadata": {},
   "source": [
    "## Create projection matrix and projector"
   ]
  },
  {
   "cell_type": "markdown",
   "id": "5440ac53-6759-44ea-a108-e919750b6c07",
   "metadata": {},
   "source": [
    "It is also possible to set-up reconstruction parameters directly in Python. Note that some parameters, including setting the projectors, need STIR 5.2. However, if you don't have that yet, you can first use the `.par` file, and then change settings from Python."
   ]
  },
  {
   "cell_type": "code",
   "execution_count": null,
   "id": "b309e086-2a0c-44e7-bf53-ed00a6e09b61",
   "metadata": {
    "tags": []
   },
   "outputs": [],
   "source": [
    "pm=stir.ProjMatrixByBinSPECTUB()"
   ]
  },
  {
   "cell_type": "code",
   "execution_count": null,
   "id": "93e35441-dcc0-45d0-b5dd-220503fe3c4d",
   "metadata": {
    "tags": []
   },
   "outputs": [],
   "source": [
    "pm.set_attenuation_image_sptr(atn)"
   ]
  },
  {
   "cell_type": "code",
   "execution_count": null,
   "id": "c2349196-440f-4ace-b3c2-b6312e40ad8d",
   "metadata": {
    "tags": []
   },
   "outputs": [],
   "source": [
    "projectors=stir.ProjectorByBinPairUsingProjMatrixByBin(pm)\n",
    "projectors.set_up(template.get_proj_data_info(), emission)"
   ]
  },
  {
   "cell_type": "markdown",
   "id": "9635a852-daaf-48d6-915f-b3d907b8f162",
   "metadata": {},
   "source": [
    "## Create reconstruction (and its objective function)"
   ]
  },
  {
   "cell_type": "code",
   "execution_count": null,
   "id": "c4e5baf8-38f8-4b4e-adf0-4981079c8888",
   "metadata": {},
   "outputs": [],
   "source": [
    "recon = stir.OSMAPOSLReconstruction3DFloat()\n",
    "obj_fun = recon.get_objective_function()\n",
    "# cannot do this yet\n",
    "# obj_fun.set_projector_pair(projectors)\n",
    "recon.set_input_data(proj_data)\n",
    "recon.set_num_subsets(8)\n",
    "recon.set_num_subiterations(10)"
   ]
  },
  {
   "cell_type": "code",
   "execution_count": null,
   "id": "00ac692c-3217-4680-98ce-7d9e2ad50646",
   "metadata": {},
   "outputs": [],
   "source": [
    "help(obj_fun)"
   ]
  },
  {
   "cell_type": "markdown",
   "id": "ff8d8bf5-9439-4aa6-83be-09e2a875a490",
   "metadata": {},
   "source": [
    "Now you can reconstruct as above."
   ]
  }
 ],
 "metadata": {
  "kernelspec": {
   "display_name": "Python 3",
   "language": "python",
   "name": "python3"
  },
  "language_info": {
   "codemirror_mode": {
    "name": "ipython"
   },
   "file_extension": ".py",
   "mimetype": "text/x-python",
   "name": "python",
   "nbconvert_exporter": "python"
  }
 },
 "nbformat": 4,
 "nbformat_minor": 5
}
